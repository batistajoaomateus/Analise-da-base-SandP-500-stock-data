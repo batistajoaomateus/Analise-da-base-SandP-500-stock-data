{
  "nbformat": 4,
  "nbformat_minor": 0,
  "metadata": {
    "colab": {
      "provenance": []
    },
    "kernelspec": {
      "name": "python3",
      "display_name": "Python 3"
    },
    "language_info": {
      "name": "python"
    }
  },
  "cells": [
    {
      "cell_type": "code",
      "execution_count": null,
      "metadata": {
        "id": "wDgMRwUo3m6c"
      },
      "outputs": [],
      "source": [
        "from pyspark.sql import SparkSession\n",
        "spark = SparkSession.builder.master('local[*]').getOrCreate()"
      ]
    },
    {
      "cell_type": "code",
      "source": [
        "!pip install pyspark"
      ],
      "metadata": {
        "colab": {
          "base_uri": "https://localhost:8080/"
        },
        "id": "DH6deAfg3zo3",
        "outputId": "6799e2c0-4330-42f0-b08a-c6ac85b3507c"
      },
      "execution_count": null,
      "outputs": [
        {
          "output_type": "stream",
          "name": "stdout",
          "text": [
            "Collecting pyspark\n",
            "  Downloading pyspark-3.4.1.tar.gz (310.8 MB)\n",
            "\u001b[2K     \u001b[90m━━━━━━━━━━━━━━━━━━━━━━━━━━━━━━━━━━━━━━━\u001b[0m \u001b[32m310.8/310.8 MB\u001b[0m \u001b[31m4.7 MB/s\u001b[0m eta \u001b[36m0:00:00\u001b[0m\n",
            "\u001b[?25h  Preparing metadata (setup.py) ... \u001b[?25l\u001b[?25hdone\n",
            "Requirement already satisfied: py4j==0.10.9.7 in /usr/local/lib/python3.10/dist-packages (from pyspark) (0.10.9.7)\n",
            "Building wheels for collected packages: pyspark\n",
            "  Building wheel for pyspark (setup.py) ... \u001b[?25l\u001b[?25hdone\n",
            "  Created wheel for pyspark: filename=pyspark-3.4.1-py2.py3-none-any.whl size=311285398 sha256=3fef0253ef6ff95a2bdb7742722846dfc29e444def98bef2ccc00cd84b4e8155\n",
            "  Stored in directory: /root/.cache/pip/wheels/0d/77/a3/ff2f74cc9ab41f8f594dabf0579c2a7c6de920d584206e0834\n",
            "Successfully built pyspark\n",
            "Installing collected packages: pyspark\n",
            "Successfully installed pyspark-3.4.1\n"
          ]
        }
      ]
    },
    {
      "cell_type": "code",
      "source": [
        "from pyspark.sql import SparkSession\n",
        "\n",
        "# Inicie a sessão do Spark\n",
        "spark = SparkSession.builder.appName(\"ImportCSV\").getOrCreate()"
      ],
      "metadata": {
        "id": "8toeiUqe4f8F"
      },
      "execution_count": null,
      "outputs": []
    },
    {
      "cell_type": "code",
      "source": [
        "from google.colab import files\n",
        "\n",
        "uploaded = files.upload()"
      ],
      "metadata": {
        "colab": {
          "base_uri": "https://localhost:8080/",
          "height": 73
        },
        "id": "HR2Mkpyi95KJ",
        "outputId": "d7edc746-f186-4f02-ba46-1b21eb74f2cf"
      },
      "execution_count": null,
      "outputs": [
        {
          "output_type": "display_data",
          "data": {
            "text/plain": [
              "<IPython.core.display.HTML object>"
            ],
            "text/html": [
              "\n",
              "     <input type=\"file\" id=\"files-619b61a9-27ec-4d6d-b84b-8fa3f600fdca\" name=\"files[]\" multiple disabled\n",
              "        style=\"border:none\" />\n",
              "     <output id=\"result-619b61a9-27ec-4d6d-b84b-8fa3f600fdca\">\n",
              "      Upload widget is only available when the cell has been executed in the\n",
              "      current browser session. Please rerun this cell to enable.\n",
              "      </output>\n",
              "      <script>// Copyright 2017 Google LLC\n",
              "//\n",
              "// Licensed under the Apache License, Version 2.0 (the \"License\");\n",
              "// you may not use this file except in compliance with the License.\n",
              "// You may obtain a copy of the License at\n",
              "//\n",
              "//      http://www.apache.org/licenses/LICENSE-2.0\n",
              "//\n",
              "// Unless required by applicable law or agreed to in writing, software\n",
              "// distributed under the License is distributed on an \"AS IS\" BASIS,\n",
              "// WITHOUT WARRANTIES OR CONDITIONS OF ANY KIND, either express or implied.\n",
              "// See the License for the specific language governing permissions and\n",
              "// limitations under the License.\n",
              "\n",
              "/**\n",
              " * @fileoverview Helpers for google.colab Python module.\n",
              " */\n",
              "(function(scope) {\n",
              "function span(text, styleAttributes = {}) {\n",
              "  const element = document.createElement('span');\n",
              "  element.textContent = text;\n",
              "  for (const key of Object.keys(styleAttributes)) {\n",
              "    element.style[key] = styleAttributes[key];\n",
              "  }\n",
              "  return element;\n",
              "}\n",
              "\n",
              "// Max number of bytes which will be uploaded at a time.\n",
              "const MAX_PAYLOAD_SIZE = 100 * 1024;\n",
              "\n",
              "function _uploadFiles(inputId, outputId) {\n",
              "  const steps = uploadFilesStep(inputId, outputId);\n",
              "  const outputElement = document.getElementById(outputId);\n",
              "  // Cache steps on the outputElement to make it available for the next call\n",
              "  // to uploadFilesContinue from Python.\n",
              "  outputElement.steps = steps;\n",
              "\n",
              "  return _uploadFilesContinue(outputId);\n",
              "}\n",
              "\n",
              "// This is roughly an async generator (not supported in the browser yet),\n",
              "// where there are multiple asynchronous steps and the Python side is going\n",
              "// to poll for completion of each step.\n",
              "// This uses a Promise to block the python side on completion of each step,\n",
              "// then passes the result of the previous step as the input to the next step.\n",
              "function _uploadFilesContinue(outputId) {\n",
              "  const outputElement = document.getElementById(outputId);\n",
              "  const steps = outputElement.steps;\n",
              "\n",
              "  const next = steps.next(outputElement.lastPromiseValue);\n",
              "  return Promise.resolve(next.value.promise).then((value) => {\n",
              "    // Cache the last promise value to make it available to the next\n",
              "    // step of the generator.\n",
              "    outputElement.lastPromiseValue = value;\n",
              "    return next.value.response;\n",
              "  });\n",
              "}\n",
              "\n",
              "/**\n",
              " * Generator function which is called between each async step of the upload\n",
              " * process.\n",
              " * @param {string} inputId Element ID of the input file picker element.\n",
              " * @param {string} outputId Element ID of the output display.\n",
              " * @return {!Iterable<!Object>} Iterable of next steps.\n",
              " */\n",
              "function* uploadFilesStep(inputId, outputId) {\n",
              "  const inputElement = document.getElementById(inputId);\n",
              "  inputElement.disabled = false;\n",
              "\n",
              "  const outputElement = document.getElementById(outputId);\n",
              "  outputElement.innerHTML = '';\n",
              "\n",
              "  const pickedPromise = new Promise((resolve) => {\n",
              "    inputElement.addEventListener('change', (e) => {\n",
              "      resolve(e.target.files);\n",
              "    });\n",
              "  });\n",
              "\n",
              "  const cancel = document.createElement('button');\n",
              "  inputElement.parentElement.appendChild(cancel);\n",
              "  cancel.textContent = 'Cancel upload';\n",
              "  const cancelPromise = new Promise((resolve) => {\n",
              "    cancel.onclick = () => {\n",
              "      resolve(null);\n",
              "    };\n",
              "  });\n",
              "\n",
              "  // Wait for the user to pick the files.\n",
              "  const files = yield {\n",
              "    promise: Promise.race([pickedPromise, cancelPromise]),\n",
              "    response: {\n",
              "      action: 'starting',\n",
              "    }\n",
              "  };\n",
              "\n",
              "  cancel.remove();\n",
              "\n",
              "  // Disable the input element since further picks are not allowed.\n",
              "  inputElement.disabled = true;\n",
              "\n",
              "  if (!files) {\n",
              "    return {\n",
              "      response: {\n",
              "        action: 'complete',\n",
              "      }\n",
              "    };\n",
              "  }\n",
              "\n",
              "  for (const file of files) {\n",
              "    const li = document.createElement('li');\n",
              "    li.append(span(file.name, {fontWeight: 'bold'}));\n",
              "    li.append(span(\n",
              "        `(${file.type || 'n/a'}) - ${file.size} bytes, ` +\n",
              "        `last modified: ${\n",
              "            file.lastModifiedDate ? file.lastModifiedDate.toLocaleDateString() :\n",
              "                                    'n/a'} - `));\n",
              "    const percent = span('0% done');\n",
              "    li.appendChild(percent);\n",
              "\n",
              "    outputElement.appendChild(li);\n",
              "\n",
              "    const fileDataPromise = new Promise((resolve) => {\n",
              "      const reader = new FileReader();\n",
              "      reader.onload = (e) => {\n",
              "        resolve(e.target.result);\n",
              "      };\n",
              "      reader.readAsArrayBuffer(file);\n",
              "    });\n",
              "    // Wait for the data to be ready.\n",
              "    let fileData = yield {\n",
              "      promise: fileDataPromise,\n",
              "      response: {\n",
              "        action: 'continue',\n",
              "      }\n",
              "    };\n",
              "\n",
              "    // Use a chunked sending to avoid message size limits. See b/62115660.\n",
              "    let position = 0;\n",
              "    do {\n",
              "      const length = Math.min(fileData.byteLength - position, MAX_PAYLOAD_SIZE);\n",
              "      const chunk = new Uint8Array(fileData, position, length);\n",
              "      position += length;\n",
              "\n",
              "      const base64 = btoa(String.fromCharCode.apply(null, chunk));\n",
              "      yield {\n",
              "        response: {\n",
              "          action: 'append',\n",
              "          file: file.name,\n",
              "          data: base64,\n",
              "        },\n",
              "      };\n",
              "\n",
              "      let percentDone = fileData.byteLength === 0 ?\n",
              "          100 :\n",
              "          Math.round((position / fileData.byteLength) * 100);\n",
              "      percent.textContent = `${percentDone}% done`;\n",
              "\n",
              "    } while (position < fileData.byteLength);\n",
              "  }\n",
              "\n",
              "  // All done.\n",
              "  yield {\n",
              "    response: {\n",
              "      action: 'complete',\n",
              "    }\n",
              "  };\n",
              "}\n",
              "\n",
              "scope.google = scope.google || {};\n",
              "scope.google.colab = scope.google.colab || {};\n",
              "scope.google.colab._files = {\n",
              "  _uploadFiles,\n",
              "  _uploadFilesContinue,\n",
              "};\n",
              "})(self);\n",
              "</script> "
            ]
          },
          "metadata": {}
        },
        {
          "output_type": "stream",
          "name": "stdout",
          "text": [
            "Saving all_stocks_5yr.csv to all_stocks_5yr.csv\n"
          ]
        }
      ]
    },
    {
      "cell_type": "code",
      "source": [
        "file_path = \"/content/all_stocks_5yr.csv\"  # Substitua pelo caminho fornecido pelo Colab\n",
        "\n",
        "df = spark.read.format(\"csv\").option(\"header\", \"true\").load(file_path)"
      ],
      "metadata": {
        "id": "lbpqzU_VAA7l"
      },
      "execution_count": null,
      "outputs": []
    },
    {
      "cell_type": "code",
      "source": [
        "# Verificar os atributos do DataFrame\n",
        "print(df.columns)"
      ],
      "metadata": {
        "colab": {
          "base_uri": "https://localhost:8080/"
        },
        "id": "1zfcBK5jAOkr",
        "outputId": "46f47bfe-ee6c-4d29-990f-ec08b640292a"
      },
      "execution_count": null,
      "outputs": [
        {
          "output_type": "stream",
          "name": "stdout",
          "text": [
            "['date', 'open', 'high', 'low', 'close', 'volume', 'Name']\n"
          ]
        }
      ]
    },
    {
      "cell_type": "code",
      "source": [
        "# Verificar os tipos de dados das colunas\n",
        "print(df.dtypes)"
      ],
      "metadata": {
        "colab": {
          "base_uri": "https://localhost:8080/"
        },
        "id": "TAHPnJefAjee",
        "outputId": "08b208f9-8850-4281-f2f3-15ce6daab328"
      },
      "execution_count": null,
      "outputs": [
        {
          "output_type": "stream",
          "name": "stdout",
          "text": [
            "[('date', 'string'), ('open', 'string'), ('high', 'string'), ('low', 'string'), ('close', 'string'), ('volume', 'string'), ('Name', 'string')]\n"
          ]
        }
      ]
    },
    {
      "cell_type": "code",
      "source": [
        "# Verificar o esquema do DataFrame\n",
        "df.printSchema()"
      ],
      "metadata": {
        "colab": {
          "base_uri": "https://localhost:8080/"
        },
        "id": "lIajTiIfAkuu",
        "outputId": "95816489-71d3-4c00-f127-cea01b83d863"
      },
      "execution_count": null,
      "outputs": [
        {
          "output_type": "stream",
          "name": "stdout",
          "text": [
            "root\n",
            " |-- date: string (nullable = true)\n",
            " |-- open: string (nullable = true)\n",
            " |-- high: string (nullable = true)\n",
            " |-- low: string (nullable = true)\n",
            " |-- close: string (nullable = true)\n",
            " |-- volume: string (nullable = true)\n",
            " |-- Name: string (nullable = true)\n",
            "\n"
          ]
        }
      ]
    },
    {
      "cell_type": "code",
      "source": [
        "df.count()"
      ],
      "metadata": {
        "colab": {
          "base_uri": "https://localhost:8080/"
        },
        "id": "9fOTo4C6A5i2",
        "outputId": "ff52ee10-d206-49ac-eb01-573a9f42c8cd"
      },
      "execution_count": null,
      "outputs": [
        {
          "output_type": "execute_result",
          "data": {
            "text/plain": [
              "619040"
            ]
          },
          "metadata": {},
          "execution_count": 17
        }
      ]
    },
    {
      "cell_type": "code",
      "source": [
        "df.show()"
      ],
      "metadata": {
        "colab": {
          "base_uri": "https://localhost:8080/"
        },
        "id": "FEPUyjpzA89O",
        "outputId": "936e8f43-0a06-492b-a777-7594a0430763"
      },
      "execution_count": null,
      "outputs": [
        {
          "output_type": "stream",
          "name": "stdout",
          "text": [
            "+----------+-----+-----+-----+-----+--------+----+\n",
            "|      date| open| high|  low|close|  volume|Name|\n",
            "+----------+-----+-----+-----+-----+--------+----+\n",
            "|2013-02-08|15.07|15.12|14.63|14.75| 8407500| AAL|\n",
            "|2013-02-11|14.89|15.01|14.26|14.46| 8882000| AAL|\n",
            "|2013-02-12|14.45|14.51| 14.1|14.27| 8126000| AAL|\n",
            "|2013-02-13| 14.3|14.94|14.25|14.66|10259500| AAL|\n",
            "|2013-02-14|14.94|14.96|13.16|13.99|31879900| AAL|\n",
            "|2013-02-15|13.93|14.61|13.93| 14.5|15628000| AAL|\n",
            "|2013-02-19|14.33|14.56|14.08|14.26|11354400| AAL|\n",
            "|2013-02-20|14.17|14.26|13.15|13.33|14725200| AAL|\n",
            "|2013-02-21|13.62|13.95| 12.9|13.37|11922100| AAL|\n",
            "|2013-02-22|13.57| 13.6|13.21|13.57| 6071400| AAL|\n",
            "|2013-02-25| 13.6|13.76| 13.0|13.02| 7186400| AAL|\n",
            "|2013-02-26|13.14|13.42| 12.7|13.26| 9419000| AAL|\n",
            "|2013-02-27|13.28|13.62|13.18|13.41| 7390500| AAL|\n",
            "|2013-02-28|13.49|13.63|13.39|13.43| 6143600| AAL|\n",
            "|2013-03-01|13.37|13.95|13.32|13.61| 7376800| AAL|\n",
            "|2013-03-04| 13.5|14.07|13.47| 13.9| 8174800| AAL|\n",
            "|2013-03-05|14.01|14.05|13.71|14.05| 7676100| AAL|\n",
            "|2013-03-06|14.52|14.68|14.25|14.57|13243200| AAL|\n",
            "|2013-03-07| 14.7|14.93| 14.5|14.82| 9125300| AAL|\n",
            "|2013-03-08|14.99| 15.2|14.84|14.92|10593700| AAL|\n",
            "+----------+-----+-----+-----+-----+--------+----+\n",
            "only showing top 20 rows\n",
            "\n"
          ]
        }
      ]
    },
    {
      "cell_type": "code",
      "source": [
        "df.describe().show()"
      ],
      "metadata": {
        "colab": {
          "base_uri": "https://localhost:8080/"
        },
        "id": "WQ9VzAM8BG78",
        "outputId": "2b35ea91-6f02-4f67-a91a-941d8ff41a8f"
      },
      "execution_count": null,
      "outputs": [
        {
          "output_type": "stream",
          "name": "stdout",
          "text": [
            "+-------+----------+-----------------+-----------------+-----------------+-----------------+-----------------+------+\n",
            "|summary|      date|             open|             high|              low|            close|           volume|  Name|\n",
            "+-------+----------+-----------------+-----------------+-----------------+-----------------+-----------------+------+\n",
            "|  count|    619040|           619029|           619032|           619032|           619040|           619040|619040|\n",
            "|   mean|      null|83.02333431454696|83.77831069346465|82.25609641375786|83.04376276476573|4321823.395568945|  null|\n",
            "| stddev|      null| 97.3787690433231|  98.207518904464| 96.5074210580914|97.38974800165752|8693609.511967659|  null|\n",
            "|    min|2013-02-08|             1.62|             1.69|              1.5|             1.59|                0|     A|\n",
            "|    max|2018-02-07|           999.47|           999.75|           999.48|            999.6|           999994|   ZTS|\n",
            "+-------+----------+-----------------+-----------------+-----------------+-----------------+-----------------+------+\n",
            "\n"
          ]
        }
      ]
    },
    {
      "cell_type": "code",
      "source": [
        "# Pergunta 2: Quantos registros há na planilha para a ação da Apple (AAPL)?\n",
        "valor_desejado = 'AAPL'\n",
        "count = df.filter(df['Name'] == valor_desejado).count()\n",
        "print(\"Número de registros com o valor\", valor_desejado, \":\", count)"
      ],
      "metadata": {
        "colab": {
          "base_uri": "https://localhost:8080/"
        },
        "id": "BYp9uivmB22i",
        "outputId": "e15dc5ca-14b6-46c6-cca5-4266778cf82e"
      },
      "execution_count": null,
      "outputs": [
        {
          "output_type": "stream",
          "name": "stdout",
          "text": [
            "Número de registros com o valor AAPL : 1259\n"
          ]
        }
      ]
    },
    {
      "cell_type": "code",
      "source": [
        "# Pergunta 3: Quantas empresas distintas têm registros nessa planilha?\n",
        "coluna_alvo = 'Name'\n",
        "count = df.select(coluna_alvo).distinct().count()\n",
        "print(\"Número de registros distintos na coluna\", coluna_alvo, \":\", count)"
      ],
      "metadata": {
        "colab": {
          "base_uri": "https://localhost:8080/"
        },
        "id": "0AC57BwrCaEK",
        "outputId": "9850c139-3f8d-4347-ab49-48cf4deedafd"
      },
      "execution_count": null,
      "outputs": [
        {
          "output_type": "stream",
          "name": "stdout",
          "text": [
            "Número de registros distintos na coluna Name : 505\n"
          ]
        }
      ]
    },
    {
      "cell_type": "code",
      "source": [
        "# Pergunta 4: Com qual frequência o preço de uma ação no fechamento é maior do que o preço na abertura?\n",
        "total_count = df.count()\n",
        "greater_count = df.filter(df['Close'] > df['Open']).count()\n",
        "percentage = (greater_count / total_count) * 100\n",
        "print(\"Frequência em que os valores de 'Close' são maiores que os de 'Open':\", percentage, \"%\")"
      ],
      "metadata": {
        "colab": {
          "base_uri": "https://localhost:8080/"
        },
        "id": "B1f07kuHDrI-",
        "outputId": "07265517-e70b-4ed3-abf2-3b6623861f86"
      },
      "execution_count": null,
      "outputs": [
        {
          "output_type": "stream",
          "name": "stdout",
          "text": [
            "Frequência em que os valores de 'Close' são maiores que os de 'Open': 51.52171103644353 %\n"
          ]
        }
      ]
    },
    {
      "cell_type": "code",
      "source": [
        "# Pergunta 5: Qual o maior valor das ações da Apple (AAPL) na história?\n",
        "from pyspark.sql.functions import col\n",
        "\n",
        "# Converter a coluna \"Close\" para o tipo numérico\n",
        "df = df.withColumn(\"Close\", col(\"Close\").cast(\"float\"))\n",
        "\n",
        "# Encontrar o maior valor das ações da Apple (AAPL) na coluna \"Close\"\n",
        "nome_acao = 'AAPL'\n",
        "maior_valor = df.filter(df['Name'] == nome_acao).agg({\"Close\": \"max\"}).collect()[0][0]\n",
        "print(\"Maior valor da ação\", nome_acao, \":\", maior_valor)"
      ],
      "metadata": {
        "colab": {
          "base_uri": "https://localhost:8080/"
        },
        "id": "nsNQk9CBDwiK",
        "outputId": "b91b8478-2d6e-451f-df3f-7d137f423078"
      },
      "execution_count": null,
      "outputs": [
        {
          "output_type": "stream",
          "name": "stdout",
          "text": [
            "Maior valor da ação AAPL : 179.25999450683594\n"
          ]
        }
      ]
    },
    {
      "cell_type": "code",
      "source": [
        "# Pergunta 6: Qual ação tem a maior volatilidade? Uma forma é medir o desvio-padrão do preço de fechamento de cada ação e considerar a ação de maior desvio-padrão.\n",
        "nome_acao = 'PCLN'\n",
        "desvio_padrao = df.filter(df['Name'] == nome_acao).agg({'Close': 'stddev'}).collect()[0][0]\n",
        "print(\"Desvio padrão dos valores da ação\", nome_acao, \":\", desvio_padrao)"
      ],
      "metadata": {
        "colab": {
          "base_uri": "https://localhost:8080/"
        },
        "id": "DxjKCKZNFYAk",
        "outputId": "acd1513c-ab25-4c57-e4da-bbaa45226d72"
      },
      "execution_count": null,
      "outputs": [
        {
          "output_type": "stream",
          "name": "stdout",
          "text": [
            "Desvio padrão dos valores da ação PCLN : 320.533474036385\n"
          ]
        }
      ]
    },
    {
      "cell_type": "code",
      "source": [
        "# Pergunta 6: Qual ação tem a maior volatilidade? Uma forma é medir o desvio-padrão do preço de fechamento de cada ação e considerar a ação de maior desvio-padrão.\n",
        "nome_acao = 'AES'\n",
        "desvio_padrao = df.filter(df['Name'] == nome_acao).agg({'Close': 'stddev'}).collect()[0][0]\n",
        "print(\"Desvio padrão dos valores da ação\", nome_acao, \":\", desvio_padrao)"
      ],
      "metadata": {
        "colab": {
          "base_uri": "https://localhost:8080/"
        },
        "id": "5Ghi1RtuFhRJ",
        "outputId": "23fddf24-acbb-441d-a8de-1ddbac45d651"
      },
      "execution_count": null,
      "outputs": [
        {
          "output_type": "stream",
          "name": "stdout",
          "text": [
            "Desvio padrão dos valores da ação AES : 1.4871795692373793\n"
          ]
        }
      ]
    },
    {
      "cell_type": "code",
      "source": [
        "# Pergunta 6: Qual ação tem a maior volatilidade? Uma forma é medir o desvio-padrão do preço de fechamento de cada ação e considerar a ação de maior desvio-padrão.\n",
        "nome_acao = 'GOOGL'\n",
        "desvio_padrao = df.filter(df['Name'] == nome_acao).agg({'Close': 'stddev'}).collect()[0][0]\n",
        "print(\"Desvio padrão dos valores da ação\", nome_acao, \":\", desvio_padrao)"
      ],
      "metadata": {
        "colab": {
          "base_uri": "https://localhost:8080/"
        },
        "id": "dm4Wf7IgFkL4",
        "outputId": "7eafc2e2-787c-46b1-b9d8-4c63b8eb1da4"
      },
      "execution_count": null,
      "outputs": [
        {
          "output_type": "stream",
          "name": "stdout",
          "text": [
            "Desvio padrão dos valores da ação GOOGL : 187.5738922672348\n"
          ]
        }
      ]
    },
    {
      "cell_type": "code",
      "source": [
        "# Pergunta 6: Qual ação tem a maior volatilidade? Uma forma é medir o desvio-padrão do preço de fechamento de cada ação e considerar a ação de maior desvio-padrão.\n",
        "nome_acao = 'AMZN'\n",
        "desvio_padrao = df.filter(df['Name'] == nome_acao).agg({'Close': 'stddev'}).collect()[0][0]\n",
        "print(\"Desvio padrão dos valores da ação\", nome_acao, \":\", desvio_padrao)"
      ],
      "metadata": {
        "colab": {
          "base_uri": "https://localhost:8080/"
        },
        "id": "ZRF0Uki_FnpJ",
        "outputId": "0bc9e0aa-4b9b-45ca-9968-1999e36d02b4"
      },
      "execution_count": null,
      "outputs": [
        {
          "output_type": "stream",
          "name": "stdout",
          "text": [
            "Desvio padrão dos valores da ação AMZN : 282.50039426072794\n"
          ]
        }
      ]
    },
    {
      "cell_type": "code",
      "source": [
        "# Pergunta 7: Qual o dia com maior volume total de negociação da bolsa?\n",
        "from pyspark.sql.functions import col\n",
        "\n",
        "# Encontrar o dia com o maior volume total de negociação da bolsa\n",
        "result = df.groupBy('date').agg({'volume': 'sum'}).orderBy(col('sum(volume)').desc()).first()\n",
        "date_with_max_volume = result['date']\n",
        "print(\"Dia com o maior volume total de negociação da bolsa:\", date_with_max_volume)"
      ],
      "metadata": {
        "colab": {
          "base_uri": "https://localhost:8080/"
        },
        "id": "B5oMlirZFtHn",
        "outputId": "6d6fecc6-0c03-44ba-87f7-26400be4a6c1"
      },
      "execution_count": null,
      "outputs": [
        {
          "output_type": "stream",
          "name": "stdout",
          "text": [
            "Dia com o maior volume total de negociação da bolsa: 2015-08-24\n"
          ]
        }
      ]
    },
    {
      "cell_type": "code",
      "source": [
        "# Pergunta 8: Qual a ação mais negociada da bolsa, em volume de transações?\n",
        "from pyspark.sql.functions import col\n",
        "\n",
        "# Encontrar a ação mais negociada da bolsa em termos de volume de transações\n",
        "result = df.groupBy('Name').agg({'volume': 'sum'}).orderBy(col('sum(volume)').desc()).first()\n",
        "acao_mais_negociada = result['Name']\n",
        "print(\"Ação mais negociada da bolsa em volume de transações:\", acao_mais_negociada)"
      ],
      "metadata": {
        "colab": {
          "base_uri": "https://localhost:8080/"
        },
        "id": "aE0sXjMNJP1I",
        "outputId": "a59fcd27-8c25-4e84-bf57-472b1521b257"
      },
      "execution_count": null,
      "outputs": [
        {
          "output_type": "stream",
          "name": "stdout",
          "text": [
            "Ação mais negociada da bolsa em volume de transações: BAC\n"
          ]
        }
      ]
    },
    {
      "cell_type": "code",
      "source": [
        "# Pergunta 9: Quantas ações começam com a letra “A”?\n",
        "\n",
        "count = df.filter(col('Name').startswith('A')).select('Name').distinct().count()\n",
        "print(\"Número de ações únicas que começam com a letra 'A':\", count)"
      ],
      "metadata": {
        "colab": {
          "base_uri": "https://localhost:8080/"
        },
        "id": "SH-oDl9dJ0xd",
        "outputId": "0e2fb47c-7352-4cd1-a28c-077ab304b2d0"
      },
      "execution_count": null,
      "outputs": [
        {
          "output_type": "stream",
          "name": "stdout",
          "text": [
            "Número de ações únicas que começam com a letra 'A': 59\n"
          ]
        }
      ]
    },
    {
      "cell_type": "code",
      "source": [
        "# Pergunta 10: Com qual frequência o preço mais alto do dia da ação também é o preço de fechamento?\n",
        "\n",
        "count = df.filter(col('high') == col('close')).count()\n",
        "total_count = df.count()\n",
        "frequency = (count / total_count) * 100\n",
        "print(\"Frequência em que o preço mais alto do dia é igual ao preço de fechamento:\", frequency, \"%\")"
      ],
      "metadata": {
        "colab": {
          "base_uri": "https://localhost:8080/"
        },
        "id": "GgM5t7-1KIUp",
        "outputId": "83dbb770-86c9-4818-ffdf-361e96e84445"
      },
      "execution_count": null,
      "outputs": [
        {
          "output_type": "stream",
          "name": "stdout",
          "text": [
            "Frequência em que o preço mais alto do dia é igual ao preço de fechamento: 1.1986301369863013 %\n"
          ]
        }
      ]
    },
    {
      "cell_type": "code",
      "source": [
        "# Pergunta 10: Em qual dia a ação da Apple mais subiu entre a abertura e o fechamento, de forma absoluta?\n",
        "\n",
        "from pyspark.sql.functions import col, abs\n",
        "\n",
        "# Criar coluna de variação absoluta entre abertura e fechamento\n",
        "df_with_diff = df.withColumn('diff', abs(col('open') - col('close')))\n",
        "\n",
        "# Filtrar apenas registros da ação da Apple (AAPL)\n",
        "df_aapl = df_with_diff.filter(col('Name') == 'AAPL')\n",
        "\n",
        "# Ordenar por diferença absoluta em ordem decrescente e selecionar o primeiro registro\n",
        "result = df_aapl.orderBy(col('diff').desc()).first()\n",
        "date_with_max_diff = result['date']\n",
        "\n",
        "print(\"Dia em que a ação da Apple mais subiu entre abertura e fechamento, de forma absoluta:\", date_with_max_diff)"
      ],
      "metadata": {
        "colab": {
          "base_uri": "https://localhost:8080/"
        },
        "id": "G0zlDQKNKqd6",
        "outputId": "7fdf19f9-8b8c-49f5-f269-e7525a006e28"
      },
      "execution_count": null,
      "outputs": [
        {
          "output_type": "stream",
          "name": "stdout",
          "text": [
            "Dia em que a ação da Apple mais subiu entre abertura e fechamento, de forma absoluta: 2015-08-24\n"
          ]
        }
      ]
    },
    {
      "cell_type": "code",
      "source": [
        "# Pergunta 12: Em média, qual o volume diário de transações das ações da AAPL?\n",
        "\n",
        "\n",
        "from pyspark.sql.functions import col\n",
        "\n",
        "# Converter a coluna 'volume' para o tipo numérico\n",
        "df = df.withColumn(\"volume\", col(\"volume\").cast(\"float\"))\n",
        "\n",
        "# Calcular a média do volume diário de transações das ações da AAPL\n",
        "average_volume = df.filter(df['Name'] == 'AAPL').groupBy().avg('volume').collect()[0][0]\n",
        "print(\"Média do volume diário de transações das ações da AAPL:\", average_volume)"
      ],
      "metadata": {
        "colab": {
          "base_uri": "https://localhost:8080/"
        },
        "id": "TFfmbs3WN3xs",
        "outputId": "d47eb70d-73d6-4237-af50-bcfa546970cf"
      },
      "execution_count": null,
      "outputs": [
        {
          "output_type": "stream",
          "name": "stdout",
          "text": [
            "Média do volume diário de transações das ações da AAPL: 54047899.74821287\n"
          ]
        }
      ]
    },
    {
      "cell_type": "code",
      "source": [
        "# Pergunta 13: Quantas ações tem 1, 2, 3, 4 e 5 caracteres em seu nome, respectivamente?\n",
        "\n",
        "# Selecionar registros únicos da coluna 'Name' e ordená-los por tamanho\n",
        "unique_names = df.select('Name').distinct().orderBy('Name')\n",
        "\n",
        "# Exibir os resultados\n",
        "unique_names.show()"
      ],
      "metadata": {
        "colab": {
          "base_uri": "https://localhost:8080/"
        },
        "id": "tSBh4v_wQWgw",
        "outputId": "e0a65653-0796-4abc-a668-ecb4c184f17c"
      },
      "execution_count": null,
      "outputs": [
        {
          "output_type": "stream",
          "name": "stdout",
          "text": [
            "+----+\n",
            "|Name|\n",
            "+----+\n",
            "|   A|\n",
            "| AAL|\n",
            "| AAP|\n",
            "|AAPL|\n",
            "|ABBV|\n",
            "| ABC|\n",
            "| ABT|\n",
            "| ACN|\n",
            "|ADBE|\n",
            "| ADI|\n",
            "| ADM|\n",
            "| ADP|\n",
            "| ADS|\n",
            "|ADSK|\n",
            "| AEE|\n",
            "| AEP|\n",
            "| AES|\n",
            "| AET|\n",
            "| AFL|\n",
            "| AGN|\n",
            "+----+\n",
            "only showing top 20 rows\n",
            "\n"
          ]
        }
      ]
    },
    {
      "cell_type": "code",
      "source": [
        "# Filtrar registros com apenas 1 caractere na coluna 'Name' e contar o número de ocorrências\n",
        "count_1_char = unique_names.filter(length('Name') == 1).count()\n",
        "\n",
        "# Imprimir o resultado\n",
        "print(\"Número de registros com apenas 1 caractere:\", count_1_char)"
      ],
      "metadata": {
        "colab": {
          "base_uri": "https://localhost:8080/"
        },
        "id": "CUp1tb5cRdjJ",
        "outputId": "6e3114d1-6925-44bb-8ee0-fbc1c2cede2b"
      },
      "execution_count": null,
      "outputs": [
        {
          "output_type": "stream",
          "name": "stdout",
          "text": [
            "Número de registros com apenas 1 caractere: 10\n"
          ]
        }
      ]
    },
    {
      "cell_type": "code",
      "source": [
        "# Filtrar registros com apenas 2 caracteres na coluna 'Name' e contar o número de ocorrências\n",
        "count_2_char = unique_names.filter(length('Name') == 2).count()\n",
        "\n",
        "# Imprimir o resultado\n",
        "print(\"Número de registros com apenas 2 caracteres:\", count_2_char)"
      ],
      "metadata": {
        "colab": {
          "base_uri": "https://localhost:8080/"
        },
        "id": "A06k9FL9Rnm2",
        "outputId": "f528f4a5-7d33-4412-eb61-a7eece40686d"
      },
      "execution_count": null,
      "outputs": [
        {
          "output_type": "stream",
          "name": "stdout",
          "text": [
            "Número de registros com apenas 2 caracteres: 50\n"
          ]
        }
      ]
    },
    {
      "cell_type": "code",
      "source": [
        "# Filtrar registros com apenas 3 caracteres na coluna 'Name' e contar o número de ocorrências\n",
        "count_3_char = unique_names.filter(length('Name') == 3).count()\n",
        "\n",
        "# Imprimir o resultado\n",
        "print(\"Número de registros com apenas 3 caractere:\", count_3_char)"
      ],
      "metadata": {
        "colab": {
          "base_uri": "https://localhost:8080/"
        },
        "id": "9mQ7wfowRu-X",
        "outputId": "c0e8abae-a13f-463a-daab-03f450a0bffd"
      },
      "execution_count": null,
      "outputs": [
        {
          "output_type": "stream",
          "name": "stdout",
          "text": [
            "Número de registros com apenas 3 caractere: 323\n"
          ]
        }
      ]
    },
    {
      "cell_type": "code",
      "source": [
        "# Filtrar registros com apenas 4 caracteres na coluna 'Name' e contar o número de ocorrências\n",
        "count_4_char = unique_names.filter(length('Name') == 4).count()\n",
        "\n",
        "# Imprimir o resultado\n",
        "print(\"Número de registros com apenas 4 caractere:\", count_4_char)"
      ],
      "metadata": {
        "colab": {
          "base_uri": "https://localhost:8080/"
        },
        "id": "eo2tJLVzSBF6",
        "outputId": "89f93731-e77b-4877-c75a-9f66a044ab69"
      },
      "execution_count": null,
      "outputs": [
        {
          "output_type": "stream",
          "name": "stdout",
          "text": [
            "Número de registros com apenas 4 caractere: 117\n"
          ]
        }
      ]
    },
    {
      "cell_type": "code",
      "source": [
        "# Filtrar registros com apenas 5 caracteres na coluna 'Name' e contar o número de ocorrências\n",
        "count_5_char = unique_names.filter(length('Name') == 5).count()\n",
        "\n",
        "# Imprimir o resultado\n",
        "print(\"Número de registros com apenas 5 caractere:\", count_5_char)"
      ],
      "metadata": {
        "colab": {
          "base_uri": "https://localhost:8080/"
        },
        "id": "sjynWl6fSF7n",
        "outputId": "77c524a8-aa17-42de-99c9-521bd7d33e57"
      },
      "execution_count": null,
      "outputs": [
        {
          "output_type": "stream",
          "name": "stdout",
          "text": [
            "Número de registros com apenas 5 caractere: 5\n"
          ]
        }
      ]
    },
    {
      "cell_type": "code",
      "source": [
        "# Pergunta 14: Qual a ação menos negociada da bolsa, em volume de transações?\n",
        "\n",
        "from pyspark.sql.functions import col\n",
        "\n",
        "# Encontrar a ação menos negociada da bolsa em termos de volume de transações\n",
        "result = df.groupBy('Name').agg({'volume': 'sum'}).orderBy(col('sum(volume)')).first()\n",
        "acao_menos_negociada = result['Name']\n",
        "print(\"Ação menos negociada da bolsa em volume de transações:\", acao_menos_negociada)"
      ],
      "metadata": {
        "colab": {
          "base_uri": "https://localhost:8080/"
        },
        "id": "osfqW5p8STLJ",
        "outputId": "214e9b48-5d4f-4603-af8b-fe7f3871504e"
      },
      "execution_count": null,
      "outputs": [
        {
          "output_type": "stream",
          "name": "stdout",
          "text": [
            "Ação menos negociada da bolsa em volume de transações: APTV\n"
          ]
        }
      ]
    }
  ]
}